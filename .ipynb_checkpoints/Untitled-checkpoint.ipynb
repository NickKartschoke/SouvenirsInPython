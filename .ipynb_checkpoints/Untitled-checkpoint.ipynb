{
 "cells": [
  {
   "cell_type": "code",
   "execution_count": 1,
   "id": "916a4eb2-7d27-4118-8596-2b9e4c2258ce",
   "metadata": {},
   "outputs": [],
   "source": [
    "import pandas as pd"
   ]
  },
  {
   "cell_type": "code",
   "execution_count": 4,
   "id": "31e940da-84a1-4fb1-a23b-b299f1197e78",
   "metadata": {},
   "outputs": [],
   "source": [
    "s = pd.read_csv('souvenir.csv')"
   ]
  },
  {
   "cell_type": "code",
   "execution_count": 6,
   "id": "1fb884a2-2f95-4707-9fec-f37d4c435ffc",
   "metadata": {},
   "outputs": [],
   "source": [
    "cat = pd.read_csv('category.csv')\n",
    "city = pd.read_csv('city.csv')\n",
    "country = pd.read_csv('country.csv')\n",
    "loc = pd.read_csv('location.csv')\n",
    "owner = pd.read_csv('owner.csv')\n",
    "region = pd.read_csv('region.csv')"
   ]
  },
  {
   "cell_type": "code",
   "execution_count": 15,
   "id": "715d2769-e4de-4cf3-a858-8ba4d7c4484b",
   "metadata": {},
   "outputs": [
    {
     "name": "stdout",
     "output_type": "stream",
     "text": [
      "<class 'pandas.core.frame.DataFrame'>\n",
      "RangeIndex: 147 entries, 0 to 146\n",
      "Data columns (total 10 columns):\n",
      " #   Column           Non-Null Count  Dtype  \n",
      "---  ------           --------------  -----  \n",
      " 0   ItemID           147 non-null    int64  \n",
      " 1   LocationID       31 non-null     float64\n",
      " 2   ItemDescription  109 non-null    object \n",
      " 3   DateObtained     147 non-null    object \n",
      " 4   Price            147 non-null    float64\n",
      " 5   Weight           109 non-null    float64\n",
      " 6   OwnerID          147 non-null    int64  \n",
      " 7   CategoryID       147 non-null    int64  \n",
      " 8   CityID           125 non-null    float64\n",
      " 9   Name             147 non-null    object \n",
      "dtypes: float64(4), int64(3), object(3)\n",
      "memory usage: 11.6+ KB\n"
     ]
    }
   ],
   "source": [
    "s.head()\n",
    "s.info()"
   ]
  },
  {
   "cell_type": "code",
   "execution_count": 14,
   "id": "81ae9e10-acea-4a3d-9b0d-0b10f44071df",
   "metadata": {},
   "outputs": [
    {
     "data": {
      "text/html": [
       "<div>\n",
       "<style scoped>\n",
       "    .dataframe tbody tr th:only-of-type {\n",
       "        vertical-align: middle;\n",
       "    }\n",
       "\n",
       "    .dataframe tbody tr th {\n",
       "        vertical-align: top;\n",
       "    }\n",
       "\n",
       "    .dataframe thead th {\n",
       "        text-align: right;\n",
       "    }\n",
       "</style>\n",
       "<table border=\"1\" class=\"dataframe\">\n",
       "  <thead>\n",
       "    <tr style=\"text-align: right;\">\n",
       "      <th></th>\n",
       "      <th>CategoryID</th>\n",
       "      <th>Name</th>\n",
       "    </tr>\n",
       "  </thead>\n",
       "  <tbody>\n",
       "    <tr>\n",
       "      <th>0</th>\n",
       "      <td>1</td>\n",
       "      <td>Art</td>\n",
       "    </tr>\n",
       "    <tr>\n",
       "      <th>1</th>\n",
       "      <td>2</td>\n",
       "      <td>Artifact</td>\n",
       "    </tr>\n",
       "    <tr>\n",
       "      <th>2</th>\n",
       "      <td>3</td>\n",
       "      <td>Book</td>\n",
       "    </tr>\n",
       "    <tr>\n",
       "      <th>3</th>\n",
       "      <td>4</td>\n",
       "      <td>Clothing</td>\n",
       "    </tr>\n",
       "    <tr>\n",
       "      <th>4</th>\n",
       "      <td>5</td>\n",
       "      <td>Food</td>\n",
       "    </tr>\n",
       "  </tbody>\n",
       "</table>\n",
       "</div>"
      ],
      "text/plain": [
       "   CategoryID      Name\n",
       "0           1       Art\n",
       "1           2  Artifact\n",
       "2           3      Book\n",
       "3           4  Clothing\n",
       "4           5      Food"
      ]
     },
     "execution_count": 14,
     "metadata": {},
     "output_type": "execute_result"
    }
   ],
   "source": [
    "cat.head()"
   ]
  },
  {
   "cell_type": "code",
   "execution_count": 16,
   "id": "66ef905c-0785-4b77-a0ca-8a1b578c834e",
   "metadata": {},
   "outputs": [
    {
     "name": "stdout",
     "output_type": "stream",
     "text": [
      "{\"ItemID\":{\"0\":1,\"1\":2,\"2\":3,\"3\":4,\"4\":5,\"5\":6,\"6\":7,\"7\":8,\"8\":9,\"9\":10,\"10\":11,\"11\":12,\"12\":13,\"13\":14,\"14\":15,\"15\":16,\"16\":17,\"17\":18,\"18\":19,\"19\":20,\"20\":21,\"21\":22,\"22\":23,\"23\":24,\"24\":25,\"25\":26,\"26\":27,\"27\":28,\"28\":29,\"29\":30,\"30\":31,\"31\":32,\"32\":33,\"33\":34,\"34\":35,\"35\":36,\"36\":37,\"37\":38,\"38\":39,\"39\":40,\"40\":41,\"41\":42,\"42\":43,\"43\":44,\"44\":45,\"45\":46,\"46\":47,\"47\":48,\"48\":49,\"49\":50,\"50\":51,\"51\":52,\"52\":53,\"53\":54,\"54\":55,\"55\":56,\"56\":57,\"57\":58,\"58\":59,\"59\":60,\"60\":61,\"61\":62,\"62\":63,\"63\":64,\"64\":65,\"65\":66,\"66\":67,\"67\":68,\"68\":69,\"69\":70,\"70\":71,\"71\":72,\"72\":73,\"73\":74,\"74\":75,\"75\":76,\"76\":77,\"77\":78,\"78\":79,\"79\":80,\"80\":81,\"81\":82,\"82\":83,\"83\":84,\"84\":85,\"85\":86,\"86\":87,\"87\":88,\"88\":89,\"89\":90,\"90\":91,\"91\":92,\"92\":93,\"93\":94,\"94\":95,\"95\":96,\"96\":97,\"97\":98,\"98\":99,\"99\":100,\"100\":101,\"101\":102,\"102\":103,\"103\":104,\"104\":105,\"105\":106,\"106\":107,\"107\":108,\"108\":109,\"109\":110,\"110\":111,\"111\":112,\"112\":113,\"113\":114,\"114\":115,\"115\":116,\"116\":117,\"117\":118,\"118\":119,\"119\":120,\"120\":121,\"121\":122,\"122\":123,\"123\":124,\"124\":125,\"125\":126,\"126\":127,\"127\":128,\"128\":129,\"129\":130,\"130\":131,\"131\":132,\"132\":133,\"133\":134,\"134\":135,\"135\":136,\"136\":137,\"137\":138,\"138\":139,\"139\":140,\"140\":141,\"141\":142,\"142\":143,\"143\":144,\"144\":145,\"145\":146,\"146\":147},\"LocationID\":{\"0\":9.0,\"1\":9.0,\"2\":10.0,\"3\":11.0,\"4\":12.0,\"5\":13.0,\"6\":14.0,\"7\":15.0,\"8\":16.0,\"9\":17.0,\"10\":18.0,\"11\":9.0,\"12\":19.0,\"13\":20.0,\"14\":21.0,\"15\":22.0,\"16\":17.0,\"17\":20.0,\"18\":18.0,\"19\":12.0,\"20\":null,\"21\":null,\"22\":null,\"23\":null,\"24\":null,\"25\":null,\"26\":null,\"27\":null,\"28\":null,\"29\":null,\"30\":null,\"31\":null,\"32\":null,\"33\":null,\"34\":null,\"35\":null,\"36\":null,\"37\":null,\"38\":null,\"39\":null,\"40\":null,\"41\":null,\"42\":null,\"43\":null,\"44\":null,\"45\":null,\"46\":null,\"47\":null,\"48\":null,\"49\":null,\"50\":null,\"51\":null,\"52\":null,\"53\":null,\"54\":null,\"55\":null,\"56\":null,\"57\":null,\"58\":null,\"59\":null,\"60\":null,\"61\":null,\"62\":null,\"63\":null,\"64\":null,\"65\":null,\"66\":null,\"67\":null,\"68\":null,\"69\":null,\"70\":null,\"71\":null,\"72\":null,\"73\":null,\"74\":null,\"75\":null,\"76\":null,\"77\":null,\"78\":null,\"79\":null,\"80\":1.0,\"81\":2.0,\"82\":2.0,\"83\":3.0,\"84\":4.0,\"85\":5.0,\"86\":null,\"87\":6.0,\"88\":4.0,\"89\":null,\"90\":4.0,\"91\":8.0,\"92\":7.0,\"93\":null,\"94\":null,\"95\":null,\"96\":null,\"97\":null,\"98\":null,\"99\":null,\"100\":null,\"101\":null,\"102\":null,\"103\":null,\"104\":null,\"105\":null,\"106\":null,\"107\":null,\"108\":null,\"109\":null,\"110\":null,\"111\":null,\"112\":null,\"113\":null,\"114\":null,\"115\":null,\"116\":null,\"117\":null,\"118\":null,\"119\":null,\"120\":null,\"121\":null,\"122\":null,\"123\":null,\"124\":null,\"125\":null,\"126\":null,\"127\":null,\"128\":null,\"129\":null,\"130\":null,\"131\":null,\"132\":null,\"133\":null,\"134\":null,\"135\":null,\"136\":null,\"137\":null,\"138\":null,\"139\":null,\"140\":null,\"141\":null,\"142\":null,\"143\":null,\"144\":null,\"145\":null,\"146\":null},\"ItemDescription\":{\"0\":null,\"1\":null,\"2\":null,\"3\":null,\"4\":null,\"5\":null,\"6\":null,\"7\":null,\"8\":null,\"9\":null,\"10\":null,\"11\":null,\"12\":null,\"13\":null,\"14\":null,\"15\":null,\"16\":null,\"17\":null,\"18\":null,\"19\":null,\"20\":\"Very good dirt. Solid, reliable.\",\"21\":\"Dry and depressing\",\"22\":\"Tastes rich in Oxygen\",\"23\":\"Unimagineable feeling between the toes\",\"24\":\"High in phosphates\",\"25\":\"There's something fishy in here, got sick after tasting it\\u2026\",\"26\":\"Very soft\",\"27\":\"Smallest dirt on earth. Pathetic\",\"28\":\"It's coarse. Gets everywhere. I don't like it\",\"29\":\"Tastes like they have never won a war\",\"30\":\"Very soft, great color\",\"31\":\"Medium coarseness, tons of shells\",\"32\":\"Looks very rich. I got a worm in here!\",\"33\":\"BASIC\",\"34\":\"Neat.\",\"35\":\"Lots of critters and life. Kinda stinky\",\"36\":\"Very Nice\",\"37\":\"Exotic\",\"38\":\"Better dirt than expected\",\"39\":\"Hints of nostalgia from the great days of the USSR; however, a bit stale\",\"40\":\"Common white quartz found in Utah\",\"41\":\"Bronze NYC ornament bought from visitors center\",\"42\":\"Souvenir shop item commemorating the second ammendment.\",\"43\":\"Cute shot glass from Key West Florida\",\"44\":\"Sick T-Shirt from a wild PCB spring break back in '99\",\"45\":\"Raise hell and praise Dale\",\"46\":\"9\\/11 Memorial bronze ornament\",\"47\":\"Started a squirt gun fight that ended the Cuban Missile Crisis\",\"48\":\"Video game bought on Steam\",\"49\":\"Video game bought on Steam\",\"50\":\"Pencil case with a panda hugging it. \",\"51\":\"Pokemon Card\",\"52\":\"Loot gained from besting pirates. \",\"53\":\"Blue Swim Suit from Toronto water park\",\"54\":\"Taxidermy tazmanian devil\",\"55\":\"Rare green crystal\",\"56\":\"Orange crystal found at Utah's Topaz Mountain\",\"57\":\"Rare red crystal\",\"58\":\"The Chef's favorite knife\",\"59\":\"Rian Johnson's Creativity that he lost before he directed the Last Jedi\",\"60\":\"Commemorative replica of the first President's fabled wooden teeth\",\"61\":\"Rarest and most expensive crystal\",\"62\":\"Powerful shield belonging to the guard order of the town of Solitude\",\"63\":\"They said it didn't exist\",\"64\":\"Helmet that provides elemental resistance\",\"65\":\"The prized jewel of France worn by Beyonce\",\"66\":\"Item invented by the Dwemer to store culture's knowledge\",\"67\":\"The hat of Rasputin (from the song)\",\"68\":\"Attack damage and critical strike\",\"69\":\"Unbreakable lockpick\",\"70\":\"Hitler's iconic mustache\",\"71\":\"I stole this from Tom Hanks\",\"72\":\"A lot of attack damage. \",\"73\":\"Mural painting by Italian artist Leonardo da Vinci\",\"74\":\"Portrait painting by Italian artist Leonardo da Vinci\",\"75\":\"Limestone sculpure\",\"76\":\"Wrought-iron lattice tower\",\"77\":\"Tallest mountain in the world\",\"78\":null,\"79\":null,\"80\":null,\"81\":null,\"82\":null,\"83\":null,\"84\":null,\"85\":null,\"86\":\"      \",\"87\":null,\"88\":null,\"89\":null,\"90\":null,\"91\":null,\"92\":null,\"93\":null,\"94\":null,\"95\":null,\"96\":null,\"97\":\"I got this because it was so weird that they sell Disney shotglasses! Does Mickey Mouse do shots?\",\"98\":\"Does the Queen use this to stir her tea?\",\"99\":\"The color is so intense, I love it!\",\"100\":\"I found it on the beach, it's so nice and round!\",\"101\":\"Yeah, sure, maybe it's basic.\",\"102\":\"Someone made this by hand! It's so nice and it smells like leather.\",\"103\":\"It's heavy, but it's cool to drink out of!\",\"104\":\"Why is it shaped like that? It looks so strange but so cool!\",\"105\":\"It really is a nice skyline\",\"106\":\"It fits perfectly in the palm of my hand, and the stripes are so cute!\",\"107\":\"I think the top of the drum is made from papayrus, it sounds really awesome!\",\"108\":\"These drawings were handmade! The ink strokes are so beautiful\",\"109\":\"Don't judge me! I really like this one. The characters are cute AND deep.\",\"110\":\"It's so dark, and so smooth!\",\"111\":\"The view is so unbelievable... the sky really looked like that in person!\",\"112\":\"It's so beautiful, and the patterns were sewn by hand!\",\"113\":\"They're so tall but so beautiful! I want to live in a city like this\",\"114\":\"My cousin bought this for me when I visited because she wouldn't stop roasting me for being a tourist.... it's ironic, I promise.\",\"115\":\"The inside of the shell is iridescent, like a pearl. I wonder what this shell comes from.\",\"116\":\"Who doesn't love a kangaroo? Aww....\",\"117\":\"They say they made this with the same methods that Ancient Romans used. It's that why it's so lopsided?\",\"118\":\"It's a little flute made of wood! The sound is deeper than I was expecting.\",\"119\":\"I never wear it because I'm too afraid of damaging the beadwork, but it looks so elegant and expensive.\",\"120\":\"Sometimes I fill this up with maple syrup to pour on my pancakes.... is that a disrespectful stereotype?\",\"121\":\"I love books with nature photographs... I didn't know moose (meese? mooses?) were so BIG!\",\"122\":\"I'm going to learn how to make borsct! It's gonna happen!\",\"123\":\"These are honestly the best aviators I've ever worn. I'm gonna wear them until they break!\",\"124\":\"It was so beautiful to see the bridge all lit up for Christmas, I'll never forget it!\",\"125\":\"This was such an incredible read.\",\"126\":\"It's so soft and light. It really helped to keep me cool while I was visiting.\",\"127\":\"Who knew they made special spoons for eating olives? Not me!\",\"128\":\"Picture of the famous Patras Carnival, one of the biggest in all of Europe!\",\"129\":\"An overview of the designs used in the old structures and buildings in Paris.\",\"130\":\"A picture of the beautiful beach at Cannes!\",\"131\":\"Has \\\"I <3 Chicago\\\" on the front.\",\"132\":\"Very helpful for my algebra homework!\",\"133\":\"Wow, it's made from crystalized lava!\",\"134\":\"Now I have something to wear when my German inlaws invite me to Oktoberfest.\",\"135\":\"A classic clamshell.\",\"136\":\"A book about the life of one of Brazil's most iconic pop artists of the 20th century.\",\"137\":\"He would be so proud.\",\"138\":\"Authentic and cozy, just what I always wanted\",\"139\":\"A picture of a neighborhood with shikumen architecture.\",\"140\":\"It was really expensive and I don't know how to play it, but it's super cool.\",\"141\":\"For portioning spices like sambal\",\"142\":\"I asked the bookstore clerk what they recommended and they gave me this.\",\"143\":\"I think the picture it too heavily photoshopped.\",\"144\":\"Some impressionist art on a postcard from an Minneapolis artist.\",\"145\":\"Bought from an antique shop. Good for bashing rats\",\"146\":\"I found one half of a large shell, walked a few meters, then found the other half and now keep them sitting next to each other\"},\"DateObtained\":{\"0\":\"2019\\/02\\/15\",\"1\":\"2019\\/02\\/17\",\"2\":\"2019\\/03\\/05\",\"3\":\"2019\\/04\\/18\",\"4\":\"2019\\/05\\/07\",\"5\":\"2019\\/06\\/15\",\"6\":\"2019\\/07\\/21\",\"7\":\"2019\\/08\\/01\",\"8\":\"2019\\/09\\/15\",\"9\":\"2019\\/10\\/15\",\"10\":\"2019\\/11\\/09\",\"11\":\"2019\\/11\\/27\",\"12\":\"2019\\/12\\/04\",\"13\":\"2020\\/01\\/15\",\"14\":\"2020\\/02\\/13\",\"15\":\"2020\\/03\\/15\",\"16\":\"2021\\/01\\/11\",\"17\":\"2021\\/02\\/28\",\"18\":\"2021\\/03\\/26\",\"19\":\"2021\\/05\\/08\",\"20\":\"2007\\/03\\/21\",\"21\":\"2009\\/08\\/01\",\"22\":\"2010\\/03\\/11\",\"23\":\"2015\\/12\\/25\",\"24\":\"2018\\/04\\/22\",\"25\":\"2019\\/09\\/28\",\"26\":\"2020\\/06\\/12\",\"27\":\"2020\\/08\\/20\",\"28\":\"2020\\/09\\/20\",\"29\":\"2021\\/02\\/20\",\"30\":\"2021\\/07\\/20\",\"31\":\"2021\\/12\\/20\",\"32\":\"2021\\/02\\/20\",\"33\":\"2021\\/01\\/20\",\"34\":\"2021\\/03\\/20\",\"35\":\"2017\\/08\\/20\",\"36\":\"2014\\/01\\/20\",\"37\":\"2000\\/06\\/20\",\"38\":\"2004\\/09\\/20\",\"39\":\"2018\\/07\\/20\",\"40\":\"2020\\/06\\/01\",\"41\":\"2019\\/12\\/30\",\"42\":\"2021\\/01\\/02\",\"43\":\"2020\\/12\\/25\",\"44\":\"1999\\/04\\/27\",\"45\":\"2008\\/02\\/05\",\"46\":\"2020\\/03\\/14\",\"47\":\"1962\\/08\\/20\",\"48\":\"2019\\/07\\/20\",\"49\":\"2019\\/05\\/01\",\"50\":\"2014\\/07\\/01\",\"51\":\"2010\\/06\\/10\",\"52\":\"2008\\/08\\/07\",\"53\":\"2019\\/01\\/01\",\"54\":\"2000\\/06\\/13\",\"55\":\"2011\\/08\\/15\",\"56\":\"1982\\/03\\/11\",\"57\":\"1937\\/02\\/25\",\"58\":\"1998\\/07\\/11\",\"59\":\"2016\\/05\\/20\",\"60\":\"2003\\/03\\/03\",\"61\":\"2011\\/07\\/11\",\"62\":\"2014\\/05\\/19\",\"63\":\"2021\\/02\\/26\",\"64\":\"2010\\/06\\/23\",\"65\":\"2009\\/03\\/30\",\"66\":\"2011\\/07\\/12\",\"67\":\"2011\\/11\\/11\",\"68\":\"2021\\/05\\/18\",\"69\":\"2012\\/10\\/30\",\"70\":\"1940\\/04\\/30\",\"71\":\"2000\\/06\\/14\",\"72\":\"2021\\/05\\/18\",\"73\":\"1490\\/04\\/17\",\"74\":\"1507\\/05\\/20\",\"75\":\"2020\\/09\\/12\",\"76\":\"1887\\/01\\/28\",\"77\":\"2003\\/02\\/14\",\"78\":\"2007\\/01\\/10\",\"79\":\"2008\\/06\\/18\",\"80\":\"2019\\/12\\/23\",\"81\":\"2020\\/12\\/02\",\"82\":\"2020\\/12\\/02\",\"83\":\"2013\\/08\\/23\",\"84\":\"2016\\/05\\/15\",\"85\":\"2018\\/05\\/18\",\"86\":\"2015\\/05\\/08\",\"87\":\"2000\\/01\\/01\",\"88\":\"2018\\/05\\/18\",\"89\":\"2002\\/08\\/03\",\"90\":\"2020\\/08\\/05\",\"91\":\"2016\\/09\\/23\",\"92\":\"1999\\/12\\/24\",\"93\":\"2016\\/07\\/04\",\"94\":\"2007\\/07\\/07\",\"95\":\"2021\\/05\\/18\",\"96\":\"2021\\/12\\/25\",\"97\":\"2021\\/04\\/02\",\"98\":\"2020\\/01\\/05\",\"99\":\"1998\\/06\\/12\",\"100\":\"2001\\/02\\/15\",\"101\":\"2005\\/12\\/17\",\"102\":\"1999\\/11\\/23\",\"103\":\"2013\\/10\\/30\",\"104\":\"2012\\/05\\/24\",\"105\":\"2015\\/07\\/15\",\"106\":\"2021\\/01\\/08\",\"107\":\"2012\\/06\\/28\",\"108\":\"2007\\/12\\/30\",\"109\":\"2010\\/01\\/05\",\"110\":\"1995\\/11\\/04\",\"111\":\"2007\\/08\\/01\",\"112\":\"2014\\/06\\/14\",\"113\":\"2011\\/04\\/05\",\"114\":\"2019\\/01\\/18\",\"115\":\"2018\\/03\\/25\",\"116\":\"2017\\/02\\/23\",\"117\":\"2001\\/06\\/06\",\"118\":\"2002\\/10\\/19\",\"119\":\"2003\\/09\\/12\",\"120\":\"2004\\/10\\/27\",\"121\":\"2008\\/05\\/15\",\"122\":\"2005\\/12\\/13\",\"123\":\"2021\\/01\\/18\",\"124\":\"2013\\/12\\/25\",\"125\":\"1999\\/12\\/31\",\"126\":\"2011\\/06\\/16\",\"127\":\"2006\\/07\\/08\",\"128\":\"2016\\/04\\/15\",\"129\":\"2015\\/04\\/28\",\"130\":\"2014\\/11\\/11\",\"131\":\"2000\\/01\\/01\",\"132\":\"1998\\/08\\/19\",\"133\":\"2014\\/08\\/13\",\"134\":\"1997\\/02\\/26\",\"135\":\"2000\\/04\\/19\",\"136\":\"2005\\/09\\/01\",\"137\":\"2021\\/09\\/21\",\"138\":\"2016\\/10\\/10\",\"139\":\"2020\\/09\\/10\",\"140\":\"2001\\/01\\/25\",\"141\":\"2005\\/10\\/17\",\"142\":\"2004\\/11\\/22\",\"143\":\"2018\\/07\\/02\",\"144\":\"2003\\/09\\/06\",\"145\":\"2005\\/11\\/15\",\"146\":\"2001\\/03\\/30\"},\"Price\":{\"0\":7.5,\"1\":9.99,\"2\":12.99,\"3\":10.25,\"4\":6.91,\"5\":8.99,\"6\":9.75,\"7\":13.25,\"8\":11.4,\"9\":19.99,\"10\":14.25,\"11\":12.99,\"12\":12.5,\"13\":11.99,\"14\":10.75,\"15\":10.99,\"16\":15.0,\"17\":12.25,\"18\":9.95,\"19\":25.0,\"20\":0.0,\"21\":0.0,\"22\":0.0,\"23\":0.0,\"24\":0.0,\"25\":0.0,\"26\":0.0,\"27\":0.0,\"28\":0.0,\"29\":0.0,\"30\":0.0,\"31\":0.0,\"32\":0.0,\"33\":0.0,\"34\":0.0,\"35\":0.0,\"36\":0.0,\"37\":0.0,\"38\":0.0,\"39\":0.0,\"40\":0.0,\"41\":0.0,\"42\":0.0,\"43\":0.0,\"44\":0.0,\"45\":0.0,\"46\":0.0,\"47\":0.0,\"48\":0.0,\"49\":0.0,\"50\":0.0,\"51\":0.0,\"52\":0.0,\"53\":0.0,\"54\":0.0,\"55\":0.0,\"56\":0.0,\"57\":0.0,\"58\":0.0,\"59\":0.0,\"60\":0.0,\"61\":0.0,\"62\":0.0,\"63\":0.0,\"64\":0.0,\"65\":0.0,\"66\":0.0,\"67\":0.0,\"68\":0.0,\"69\":0.0,\"70\":0.0,\"71\":0.0,\"72\":0.0,\"73\":0.0,\"74\":0.0,\"75\":0.0,\"76\":0.0,\"77\":0.0,\"78\":15.0,\"79\":20.8,\"80\":29.95,\"81\":50.0,\"82\":40.0,\"83\":25.0,\"84\":15.0,\"85\":22.0,\"86\":22.95,\"87\":9.99,\"88\":10.0,\"89\":49.99,\"90\":20.0,\"91\":19.99,\"92\":35.99,\"93\":2.0,\"94\":8.95,\"95\":41.16,\"96\":1800000.0,\"97\":25.99,\"98\":50.0,\"99\":45.0,\"100\":0.0,\"101\":14.99,\"102\":35.0,\"103\":17.99,\"104\":12.99,\"105\":2.99,\"106\":0.0,\"107\":60.0,\"108\":29.99,\"109\":15.99,\"110\":0.0,\"111\":1.0,\"112\":120.0,\"113\":0.8,\"114\":12.99,\"115\":0.0,\"116\":1.2,\"117\":22.99,\"118\":45.5,\"119\":60.0,\"120\":9.5,\"121\":17.99,\"122\":15.6,\"123\":14.99,\"124\":1.25,\"125\":14.69,\"126\":35.99,\"127\":22.25,\"128\":0.99,\"129\":49.99,\"130\":1.99,\"131\":12.99,\"132\":99.99,\"133\":18.99,\"134\":69.99,\"135\":0.0,\"136\":16.49,\"137\":12.29,\"138\":42.0,\"139\":2.5,\"140\":1640.0,\"141\":6.0,\"142\":1.34,\"143\":2.99,\"144\":5.99,\"145\":17.99,\"146\":0.0},\"Weight\":{\"0\":12.0,\"1\":20.0,\"2\":16.0,\"3\":16.0,\"4\":20.0,\"5\":12.0,\"6\":16.0,\"7\":24.0,\"8\":20.0,\"9\":12.0,\"10\":16.0,\"11\":20.0,\"12\":12.0,\"13\":20.0,\"14\":16.0,\"15\":12.0,\"16\":12.0,\"17\":20.0,\"18\":16.0,\"19\":24.0,\"20\":4.0,\"21\":4.0,\"22\":4.0,\"23\":4.0,\"24\":4.0,\"25\":4.0,\"26\":4.0,\"27\":4.0,\"28\":4.0,\"29\":4.0,\"30\":4.0,\"31\":4.0,\"32\":4.0,\"33\":4.0,\"34\":4.0,\"35\":4.0,\"36\":4.0,\"37\":4.0,\"38\":4.0,\"39\":4.0,\"40\":null,\"41\":null,\"42\":null,\"43\":null,\"44\":null,\"45\":null,\"46\":null,\"47\":null,\"48\":null,\"49\":null,\"50\":null,\"51\":null,\"52\":null,\"53\":null,\"54\":null,\"55\":null,\"56\":null,\"57\":null,\"58\":null,\"59\":null,\"60\":null,\"61\":null,\"62\":null,\"63\":null,\"64\":null,\"65\":null,\"66\":null,\"67\":null,\"68\":null,\"69\":null,\"70\":null,\"71\":null,\"72\":null,\"73\":null,\"74\":null,\"75\":null,\"76\":null,\"77\":null,\"78\":6.7,\"79\":19.36,\"80\":13.4,\"81\":5.0,\"82\":10.0,\"83\":5.0,\"84\":6.88,\"85\":8.0,\"86\":10.0,\"87\":5.0,\"88\":6.0,\"89\":20.0,\"90\":18.0,\"91\":5.0,\"92\":15.0,\"93\":1.0,\"94\":4.2,\"95\":8.47,\"96\":17637.0,\"97\":2.5,\"98\":4.0,\"99\":8.0,\"100\":4.0,\"101\":2.0,\"102\":20.0,\"103\":5.0,\"104\":6.0,\"105\":1.0,\"106\":1.5,\"107\":34.0,\"108\":18.0,\"109\":21.0,\"110\":5.0,\"111\":0.75,\"112\":86.0,\"113\":1.0,\"114\":3.0,\"115\":2.0,\"116\":1.0,\"117\":3.0,\"118\":15.0,\"119\":5.0,\"120\":4.0,\"121\":19.0,\"122\":17.0,\"123\":6.0,\"124\":1.0,\"125\":22.0,\"126\":7.0,\"127\":6.0,\"128\":1.0,\"129\":20.0,\"130\":1.0,\"131\":5.0,\"132\":8.0,\"133\":12.0,\"134\":10.0,\"135\":3.5,\"136\":9.0,\"137\":2.0,\"138\":24.0,\"139\":1.0,\"140\":36.0,\"141\":3.0,\"142\":5.0,\"143\":1.0,\"144\":1.0,\"145\":12.0,\"146\":16.0},\"OwnerID\":{\"0\":3,\"1\":3,\"2\":3,\"3\":3,\"4\":3,\"5\":3,\"6\":3,\"7\":3,\"8\":3,\"9\":3,\"10\":3,\"11\":3,\"12\":3,\"13\":3,\"14\":3,\"15\":3,\"16\":3,\"17\":3,\"18\":3,\"19\":3,\"20\":5,\"21\":5,\"22\":5,\"23\":5,\"24\":5,\"25\":5,\"26\":5,\"27\":5,\"28\":5,\"29\":5,\"30\":5,\"31\":5,\"32\":5,\"33\":5,\"34\":5,\"35\":5,\"36\":5,\"37\":5,\"38\":5,\"39\":5,\"40\":4,\"41\":4,\"42\":4,\"43\":4,\"44\":4,\"45\":4,\"46\":4,\"47\":4,\"48\":4,\"49\":4,\"50\":4,\"51\":4,\"52\":4,\"53\":4,\"54\":4,\"55\":4,\"56\":4,\"57\":4,\"58\":4,\"59\":4,\"60\":4,\"61\":4,\"62\":4,\"63\":4,\"64\":4,\"65\":4,\"66\":4,\"67\":4,\"68\":4,\"69\":4,\"70\":4,\"71\":4,\"72\":4,\"73\":4,\"74\":4,\"75\":4,\"76\":4,\"77\":4,\"78\":1,\"79\":1,\"80\":1,\"81\":1,\"82\":1,\"83\":1,\"84\":1,\"85\":1,\"86\":1,\"87\":1,\"88\":1,\"89\":1,\"90\":1,\"91\":1,\"92\":1,\"93\":1,\"94\":1,\"95\":1,\"96\":1,\"97\":2,\"98\":2,\"99\":2,\"100\":2,\"101\":2,\"102\":2,\"103\":2,\"104\":2,\"105\":2,\"106\":2,\"107\":2,\"108\":2,\"109\":2,\"110\":2,\"111\":2,\"112\":2,\"113\":2,\"114\":2,\"115\":2,\"116\":2,\"117\":2,\"118\":2,\"119\":2,\"120\":2,\"121\":2,\"122\":2,\"123\":2,\"124\":2,\"125\":2,\"126\":2,\"127\":2,\"128\":2,\"129\":2,\"130\":2,\"131\":2,\"132\":2,\"133\":2,\"134\":2,\"135\":2,\"136\":2,\"137\":2,\"138\":2,\"139\":2,\"140\":2,\"141\":2,\"142\":2,\"143\":2,\"144\":2,\"145\":2,\"146\":2},\"CategoryID\":{\"0\":7,\"1\":7,\"2\":7,\"3\":7,\"4\":7,\"5\":7,\"6\":7,\"7\":7,\"8\":7,\"9\":7,\"10\":7,\"11\":7,\"12\":7,\"13\":7,\"14\":7,\"15\":7,\"16\":7,\"17\":7,\"18\":7,\"19\":7,\"20\":6,\"21\":6,\"22\":6,\"23\":6,\"24\":6,\"25\":6,\"26\":6,\"27\":6,\"28\":6,\"29\":6,\"30\":6,\"31\":6,\"32\":6,\"33\":6,\"34\":6,\"35\":6,\"36\":6,\"37\":6,\"38\":6,\"39\":6,\"40\":6,\"41\":8,\"42\":11,\"43\":7,\"44\":4,\"45\":4,\"46\":8,\"47\":12,\"48\":12,\"49\":12,\"50\":11,\"51\":12,\"52\":6,\"53\":4,\"54\":8,\"55\":6,\"56\":6,\"57\":6,\"58\":7,\"59\":2,\"60\":2,\"61\":6,\"62\":2,\"63\":8,\"64\":4,\"65\":6,\"66\":2,\"67\":4,\"68\":2,\"69\":11,\"70\":2,\"71\":2,\"72\":2,\"73\":1,\"74\":1,\"75\":1,\"76\":9,\"77\":9,\"78\":4,\"79\":12,\"80\":8,\"81\":8,\"82\":1,\"83\":1,\"84\":1,\"85\":8,\"86\":5,\"87\":1,\"88\":1,\"89\":4,\"90\":1,\"91\":4,\"92\":1,\"93\":8,\"94\":7,\"95\":2,\"96\":2,\"97\":7,\"98\":7,\"99\":4,\"100\":6,\"101\":7,\"102\":3,\"103\":7,\"104\":7,\"105\":9,\"106\":8,\"107\":8,\"108\":3,\"109\":3,\"110\":6,\"111\":9,\"112\":4,\"113\":9,\"114\":7,\"115\":8,\"116\":9,\"117\":7,\"118\":8,\"119\":4,\"120\":7,\"121\":3,\"122\":3,\"123\":4,\"124\":9,\"125\":3,\"126\":4,\"127\":7,\"128\":9,\"129\":3,\"130\":9,\"131\":4,\"132\":8,\"133\":6,\"134\":4,\"135\":8,\"136\":3,\"137\":7,\"138\":4,\"139\":9,\"140\":8,\"141\":7,\"142\":3,\"143\":9,\"144\":9,\"145\":7,\"146\":8},\"CityID\":{\"0\":null,\"1\":null,\"2\":null,\"3\":null,\"4\":null,\"5\":null,\"6\":null,\"7\":null,\"8\":null,\"9\":null,\"10\":null,\"11\":null,\"12\":null,\"13\":null,\"14\":null,\"15\":null,\"16\":null,\"17\":null,\"18\":null,\"19\":null,\"20\":60.0,\"21\":39.0,\"22\":18.0,\"23\":14.0,\"24\":73.0,\"25\":89.0,\"26\":78.0,\"27\":40.0,\"28\":16.0,\"29\":66.0,\"30\":69.0,\"31\":69.0,\"32\":38.0,\"33\":61.0,\"34\":84.0,\"35\":19.0,\"36\":56.0,\"37\":2.0,\"38\":46.0,\"39\":42.0,\"40\":8.0,\"41\":60.0,\"42\":21.0,\"43\":32.0,\"44\":65.0,\"45\":22.0,\"46\":88.0,\"47\":27.0,\"48\":null,\"49\":null,\"50\":9.0,\"51\":51.0,\"52\":44.0,\"53\":83.0,\"54\":44.0,\"55\":44.0,\"56\":82.0,\"57\":44.0,\"58\":38.0,\"59\":30.0,\"60\":88.0,\"61\":8.0,\"62\":75.0,\"63\":50.0,\"64\":35.0,\"65\":66.0,\"66\":70.0,\"67\":53.0,\"68\":79.0,\"69\":80.0,\"70\":26.0,\"71\":85.0,\"72\":79.0,\"73\":49.0,\"74\":24.0,\"75\":13.0,\"76\":66.0,\"77\":29.0,\"78\":62.0,\"79\":73.0,\"80\":64.0,\"81\":59.0,\"82\":4.0,\"83\":43.0,\"84\":87.0,\"85\":83.0,\"86\":66.0,\"87\":36.0,\"88\":88.0,\"89\":45.0,\"90\":57.0,\"91\":9.0,\"92\":18.0,\"93\":88.0,\"94\":10.0,\"95\":45.0,\"96\":9.0,\"97\":60.0,\"98\":38.0,\"99\":55.0,\"100\":7.0,\"101\":66.0,\"102\":77.0,\"103\":20.0,\"104\":28.0,\"105\":39.0,\"106\":48.0,\"107\":13.0,\"108\":9.0,\"109\":81.0,\"110\":73.0,\"111\":6.0,\"112\":54.0,\"113\":33.0,\"114\":37.0,\"115\":68.0,\"116\":5.0,\"117\":72.0,\"118\":86.0,\"119\":58.0,\"120\":83.0,\"121\":52.0,\"122\":53.0,\"123\":23.0,\"124\":11.0,\"125\":31.0,\"126\":17.0,\"127\":3.0,\"128\":67.0,\"129\":66.0,\"130\":15.0,\"131\":18.0,\"132\":21.0,\"133\":1.0,\"134\":25.0,\"135\":41.0,\"136\":71.0,\"137\":71.0,\"138\":12.0,\"139\":74.0,\"140\":34.0,\"141\":76.0,\"142\":47.0,\"143\":14.0,\"144\":51.0,\"145\":38.0,\"146\":61.0},\"Name\":{\"0\":\"Grizzly Bear Mug\",\"1\":\"Snowy Mountain Mug\",\"2\":\"Lobster Mug\",\"3\":\"Sea Lion Mug\",\"4\":\"Coral Reef Mug\",\"5\":\"Ocean Life Mug\",\"6\":\"Landscape Mug\",\"7\":\"Bird Mug\",\"8\":\"Dunes Mug\",\"9\":\"Skier Mug\",\"10\":\"Desert Mug\",\"11\":\"Mountain City Mug\",\"12\":\"Joshua Tree Mug\",\"13\":\"River View Mug\",\"14\":\"Hot Springs Mug\",\"15\":\"Cave Bat Mug\",\"16\":\"Cowboy Mug\",\"17\":\"Buffalo Mug\",\"18\":\"Gila Monster Mug\",\"19\":\"Pink Mug\",\"20\":\"Central Park-dirt\",\"21\":\"Hollywood Bowl-dirt\",\"22\":\"Burham Park-dirt\",\"23\":\"Playa Tortugas-sand\",\"24\":\"Bukhansan National Park-dirt\",\"25\":\"Wuhan Institute of Virology-dirt\",\"26\":\"TEL AVIV BEACH-sand\",\"27\":\"Bourscheid Neige Luges-dirt\",\"28\":\"Lagoon Beach-sand\",\"29\":\"Champ de Mars-dirt\",\"30\":\"Playa del Carmen-sand\",\"31\":\"Playa Punta Esmeralda-sand\",\"32\":\"Hyde Park-dirt\",\"33\":\"National Park-dirt\",\"34\":\"Promenade des Anglais-sand\",\"35\":\"Hikkaduwa Beach-sand\",\"36\":\"Al Bustan Beach-sand\",\"37\":\"Palm Beach-sand\",\"38\":\"Parco delle fonti-dirt\",\"39\":\"Park Lenina-dirt\",\"40\":\"Quartz rock\",\"41\":\"NYC bronze ornament\",\"42\":\"Texas Pen\",\"43\":\"I Got Tipsy In Key West shot glass\",\"44\":\"PCB T-Shirt\",\"45\":\"Daytona 500 Hat\",\"46\":\"9\\/11 bronze ornament\",\"47\":\"Super Soaker\",\"48\":\"Oxygen Not Included\",\"49\":\"Stardew Valley\",\"50\":\"Panda Pencil Holder\",\"51\":\"Shiny Limited Edition Charzard\",\"52\":\"Diamonds\",\"53\":\"Swim Suit\",\"54\":\"Taxidermy Tazmanian Devil\",\"55\":\"Emerald\",\"56\":\"Topaz\",\"57\":\"Ruby\",\"58\":\"Gordon Ramsey's Filet Knife\",\"59\":\"Rian Johnson's Creativity\",\"60\":\"Replica George Washington Wood Teeth\",\"61\":\"Red Beryl\",\"62\":\"Shield of Solitude\",\"63\":\"LoL Player's Sanity\",\"64\":\"Ancient Helmet of the Unburned\",\"65\":\"The Pink Panther\",\"66\":\"Dwemer Lexicon\",\"67\":\"Rasputin's Hat\",\"68\":\"Infinity Edge \",\"69\":\"Skeleton Key\",\"70\":\"Hitler's Mustache\",\"71\":\"Da Vinci's Code\",\"72\":\"BF Sword\",\"73\":\"The Last Supper\",\"74\":\"Mona Lisa\",\"75\":\"Sphinx\",\"76\":\"Eiffle Tower Postcard\",\"77\":\"Mount Everest Postcard\",\"78\":\"Tenugui Cotton Cloth Rice Grains\",\"79\":\"12'' Ancient Traditional Korea Hanbok Doll\",\"80\":\"Resort Snowglobe\",\"81\":\"Iron Standing Dog\",\"82\":\"Crafts Enameled Cockatoo\",\"83\":\"Hand Painted Rose Flower\",\"84\":\"Hand Painted Enameled Telephone\",\"85\":\"Cast Iron Door Stop\",\"86\":\"Organic Maple Syrup\",\"87\":\"Eiffel Tower Model\",\"88\":\"Metal Jewelry Box\",\"89\":\"Alpaca Poncho\",\"90\":\"Classic Vintage Antique Heart Shape Jewelry Box\",\"91\":\"Chicago Cubs T-Shirt\",\"92\":\"Decorative African Wood Mask \",\"93\":\"American Flag\",\"94\":\"Shot Glass\",\"95\":\"Vintage Maori Carving Intricate Patu Club & Long House Box Polynesian Art\",\"96\":\"80\\\" Rare 100% Purple Natural Emerald Jadeite Jade Dragon\",\"97\":\"Mickey Mouse Shotglass\",\"98\":\"Gold Spoon\",\"99\":\"Fancy Scarf\",\"100\":\"Smooth Rock\",\"101\":\"Eiffel Tower Shotglass\",\"102\":\"Hand-bound sketchbook\",\"103\":\"Stone Shotglass\",\"104\":\"Weird spoon\",\"105\":\"City postcard\",\"106\":\"Red scallop shell\",\"107\":\"Egyptian Drum\",\"108\":\"Ink Artbook\",\"109\":\"Manga\",\"110\":\"Black Rock\",\"111\":\"Sunset Postcard\",\"112\":\"Sari\",\"113\":\"Petronas Towers Postcard\",\"114\":\"Union Jack Shotglass\",\"115\":\"Shiny Shell\",\"116\":\"Kangaroo Postcard\",\"117\":\"Ancient Roman Spoon\",\"118\":\"Zuffolo\",\"119\":\"Blouse\",\"120\":\"Maple Leaf Shotglass\",\"121\":\"Moose Photographs\",\"122\":\"Cookbook\",\"123\":\"Sunglasses\",\"124\":\"Story Bridge\",\"125\":\"Long Walk to Freedom\",\"126\":\"Headscarf\",\"127\":\"Olive Spoon\",\"128\":\"Carnival Postcard\",\"129\":\"Architecture Book\",\"130\":\"Beach Postcard\",\"131\":\"Tourist Shirt\",\"132\":\"TI-89\",\"133\":\"Obsidian\",\"134\":\"Dirndl\",\"135\":\"Clamshell\",\"136\":\"Jorge Ben Jor Autobiography\",\"137\":\"Cristo Redentor Shotglass\",\"138\":\"Poncho\",\"139\":\"Shikumen Postcard\",\"140\":\"Shamisen\",\"141\":\"Small Wooden Spoon\",\"142\":\"Like Water for Chocolate\",\"143\":\"Beach Postcard\",\"144\":\"Minneapolis Institute of Art Postcard\",\"145\":\"Old Pewter Spoon\",\"146\":\"Chiton Shell\"}}\n"
     ]
    }
   ],
   "source": [
    "SouvenirJson = s.to_json()\n",
    "print(SouvenirJson)"
   ]
  }
 ],
 "metadata": {
  "kernelspec": {
   "display_name": "Python 3 (ipykernel)",
   "language": "python",
   "name": "python3"
  },
  "language_info": {
   "codemirror_mode": {
    "name": "ipython",
    "version": 3
   },
   "file_extension": ".py",
   "mimetype": "text/x-python",
   "name": "python",
   "nbconvert_exporter": "python",
   "pygments_lexer": "ipython3",
   "version": "3.9.7"
  }
 },
 "nbformat": 4,
 "nbformat_minor": 5
}
